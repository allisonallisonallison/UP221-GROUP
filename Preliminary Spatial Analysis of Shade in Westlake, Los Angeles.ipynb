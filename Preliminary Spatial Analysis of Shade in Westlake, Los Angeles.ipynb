{
 "cells": [
  {
   "cell_type": "markdown",
   "id": "d9834f04-8bd0-4f07-b881-37222a13dcd0",
   "metadata": {},
   "source": [
    "# Preliminary Spatial Analysis of Shade in Westlake, Los Angeles"
   ]
  },
  {
   "cell_type": "markdown",
   "id": "78a974d8-9ca0-40c2-be1c-63d7b34603c4",
   "metadata": {},
   "source": [
    "### To what extent is there shade cover among transit stops in Westlake? "
   ]
  },
  {
   "cell_type": "markdown",
   "id": "7d28a682-51a9-4b9e-8568-48517c1ff8c6",
   "metadata": {},
   "source": [
    "## Project Overview"
   ]
  },
  {
   "cell_type": "markdown",
   "id": "81137902-f4e6-4546-9f0d-055d184c0eb5",
   "metadata": {},
   "source": [
    "Extreme heat arrives without announcement. Over a span of a few hours in temperatures above 90° Fahrenheit, the limits of what the body can endure is manifested. The risk of cardiac arrest, kidney injury, and heat stroke start to increase, behavior begins to change, dehydration and mobility challenges reveal themselves. Heat does not discriminate but vulnerable populations, the elderly, the unhoused, low-income households without cooling units, and those reliant on public transportation face the brunt of the event. \n",
    "\n",
    "The Westlake neighborhood is situated by the communities of Wilshire, Silverlake-Echo Park,  Central City, and south Central Los Angeles. 20% of people living in Westlake are over the age of 65 – a group at high-risk of heat streets and heat related health attributes. The median income in Westlake is $29,613, slightly above the federal poverty line for a family of four but substantially below the City of Los Angeles’ poverty line. Our preliminary analysis of American Community Survey (ACS) data reveals that Westlake has the highest percentage of transit riders of all census tracts in Los Angeles County.\n",
    "\n",
    "This project aims to conduct a spatial analysis of the Westlake neighborhood by examining bus stop shelters and tree canopy. \n",
    "\n",
    "Our team’s interest is interdisciplinary, and we are all invested and passionate about environmental justice in the public space. \n"
   ]
  },
  {
   "cell_type": "markdown",
   "id": "ffe070ef-cca9-4af9-9c18-19be0749a7b6",
   "metadata": {},
   "source": [
    "## Data Collection"
   ]
  },
  {
   "cell_type": "markdown",
   "id": "8959650a-29b8-4ca0-a440-222c6f611ec4",
   "metadata": {},
   "source": [
    "For our project, we are collecting data from the following sources:\n",
    "\n",
    "- LA Metro Bus Stops and Bus Shade\n",
    "- High-resolution remote sensing data from Los Angeles Region Imagery Acquisition Consortium (LARIAC)\n",
    "- Census Data (ACS 1-year survey data from 2010 and 2020) - Identifying the 5 census tracts with the highest percentage of commuters by transit. \n"
   ]
  },
  {
   "cell_type": "markdown",
   "id": "dbd1283d-93c4-4f2c-966c-5d8ece6d8e04",
   "metadata": {},
   "source": [
    "![Methodology Visualization](https://i.imgur.com/jboPEpI.png)"
   ]
  },
  {
   "cell_type": "markdown",
   "id": "dcfe376e-0e6a-47ba-9d55-d660737ca2fa",
   "metadata": {},
   "source": [
    "## What we hope to gain"
   ]
  },
  {
   "cell_type": "markdown",
   "id": "4c1a1b5b-571b-447d-9939-5205aa4e7b72",
   "metadata": {},
   "source": [
    "We hope to enhance our technical capabilities by conducting this spatial analysis. We hope we gain a better understanding of the needs of the Westlake neighborhood, and understand shade disparities and distribution in the neighborhood. "
   ]
  },
  {
   "cell_type": "markdown",
   "id": "a6dddb2f-b52a-40f9-94d1-36419097d4dd",
   "metadata": {},
   "source": [
    "### Sources"
   ]
  },
  {
   "cell_type": "markdown",
   "id": "a6ad50ea-32e1-49f8-a46e-331cb3366ae7",
   "metadata": {},
   "source": [
    "- Vecellio, D. J., Kong, Q., Kenney, W. L., & Huber, M. (2023). Greatly enhanced risk to humans as a consequence of empirically determined lower moist heat stress tolerance. Massachusetts Institute of Technology. August 15, 2023.\n",
    "- Westlake_Community_Plan.pdf\n",
    "- https://planning.lacity.gov/odocument/ca5050bc-dbe3-4a52-a859-961beb7a2da4/2017_demo_profile_westlake.pdf"
   ]
  },
  {
   "cell_type": "code",
   "execution_count": null,
   "id": "0e56e17a-175e-40c1-b542-97458d549496",
   "metadata": {},
   "outputs": [],
   "source": []
  }
 ],
 "metadata": {
  "kernelspec": {
   "display_name": "Python 3 (ipykernel)",
   "language": "python",
   "name": "python3"
  },
  "language_info": {
   "codemirror_mode": {
    "name": "ipython",
    "version": 3
   },
   "file_extension": ".py",
   "mimetype": "text/x-python",
   "name": "python",
   "nbconvert_exporter": "python",
   "pygments_lexer": "ipython3",
   "version": "3.11.7"
  }
 },
 "nbformat": 4,
 "nbformat_minor": 5
}
