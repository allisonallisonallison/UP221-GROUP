{
 "cells": [
  {
   "cell_type": "markdown",
   "id": "1e205674-5d9a-469f-bb5a-e8287ad71772",
   "metadata": {},
   "source": [
    "# Spatial Analysis of Shade Equity in Los Angeles: A Neighborhood Comparison "
   ]
  },
  {
   "cell_type": "markdown",
   "id": "fd2462da-8ca3-4189-8ac6-15f64ca99e11",
   "metadata": {},
   "source": [
    "To what extent does shade cover among transit stops differ across Los Angeles County census tracts? How do Westlake and Silverlake-Echo Park compare in terms of shade cover as well as demographic and socioeconomic characteristics? "
   ]
  },
  {
   "cell_type": "markdown",
   "id": "3ca3f772-1dc7-4d11-bd59-446558dcc21a",
   "metadata": {},
   "source": [
    "### Project Overview"
   ]
  },
  {
   "cell_type": "markdown",
   "id": "4d2f5580-98a0-4730-9817-69463921f119",
   "metadata": {},
   "source": [
    "Extreme heat arrives without announcement. Over a span of a few hours in temperatures above 90° Fahrenheit, the limits of what the body can endure are manifested (1). The risk of cardiac arrest, kidney injury, and heat stroke starts to increase, behavior begins to change, and dehydration and mobility challenges reveal themselves. Heat does not discriminate but vulnerable populations, the elderly, the unhoused, low-income households without cooling units, and those reliant on public transportation face the brunt of the event. \n",
    "\n",
    "Urban tree cover, according to recent public health research, correlates with overall better population health as well as lower surface and air temperatures (2). Los Angeles’ history of racial segregation and housing discrimination has confined many low-income communities of color in denser urban areas with greater impervious surface cover and limited tree canopy cover (3). While many actors within these communities work to improve these conditions, public officials have yet to adequately address these inequities which structure group-differentiated life outcomes.  \n",
    "\n",
    "The Westlake neighborhood is situated by the communities of Wilshire, Silverlake-Echo Park,  Central City, and South Central Los Angeles (4). 20% of people living in Westlake are over the age of 65 (5) – a group at high risk of heat streets and heat-related health attributes. The median income in Westlake is $29,613, slightly above the federal poverty line for a family of four but substantially below the City of Los Angeles’ poverty line. Our preliminary analysis of American Community Survey (ACS) data reveals that Westlake has the highest percentage of transit riders of all census tracts in Los Angeles County.\n",
    "\n",
    "This project aims to conduct a broad spatial analysis of shade equity across Los Angeles County census tracts. In turn, we focus on the Westlake and (West Hollywood) neighborhoods as case studies to perform a comparative analysis of bus stop shelters and tree canopies.\n",
    "\n",
    "Our team’s interest is interdisciplinary, and we are all invested and passionate about environmental justice in the public space. \n"
   ]
  },
  {
   "cell_type": "markdown",
   "id": "0d9a2c89-4e77-4f4f-901b-47b648ac5e2d",
   "metadata": {},
   "source": [
    "### Data Collection"
   ]
  },
  {
   "cell_type": "markdown",
   "id": "3937424b-b307-401a-9e01-c1810cf49f34",
   "metadata": {},
   "source": [
    "For our project, we are collecting data from the following sources:\n",
    "\n",
    "1. LA Metro Bus Stops and Bus Shade\n",
    "2. FEMA National Risk Index \n",
    "3. Heat Health Census tracts data \n",
    "4. LA Street Tree Canopy data from the LA Data Hub \n",
    "5. Census Data (ACS 1-year survey data from 2022) \n",
    "     - Identifying percentage of commuters by transit for both Westlake and Silverlake-Echo Park\n",
    "     - Evaluating income disparities between Westlake and Silverlake-Echo Park\n",
    "     - Racial makeup of Westlake vs Silverlake-Echo Park\n",
    "     - Educational disparities between Westlake and Silverlake-Echo Park\n"
   ]
  },
  {
   "cell_type": "markdown",
   "id": "69db9b96-e0bc-459c-bb76-19542629e8ac",
   "metadata": {},
   "source": [
    "### Methodology"
   ]
  },
  {
   "cell_type": "markdown",
   "id": "98ee6944-3fe2-4a0a-aac6-9bbc2fb723d2",
   "metadata": {},
   "source": [
    "Our approach to the spatial analysis of shade in Westlake and Silverlake-Echo Park is to first overlay bus stop shade data over bus stops, and then overlay tree canopy. \n",
    "\n",
    "The core of our analysis involves overlaying two key layers. First, we overlay bus stop data with the existing bus stop shade/shelter data to understand current shade coverage at each bus stop. Next, we will add a tree canopy layer. This spatially analyzes the relationship between tree canopy coverage and the shaded areas at each bus stop, highlighting where shade is insufficient. Finally, we will use Heat Health Census tracts data to understand disparities in average surface temperature. We will use census data to understand how certain populations might be affected by the shade disparities.\n"
   ]
  },
  {
   "cell_type": "markdown",
   "id": "c0150c51-b868-44bd-b3f2-3775596a5c08",
   "metadata": {},
   "source": [
    "![Image](Collection.jpg)"
   ]
  },
  {
   "cell_type": "markdown",
   "id": "c02df20c-fd70-4344-a36a-9fa0d52a1a43",
   "metadata": {},
   "source": [
    "### What we hope to gain\n",
    "We hope to enhance our technical capabilities by conducting this spatial analysis. We hope we gain a better understanding of the needs of the Westlake neighborhood, and understand shade disparities and distribution between Westlake and the relatively more affluent Silverlake-Echo Park following waves of gentrification. \n"
   ]
  },
  {
   "cell_type": "markdown",
   "id": "da347848-71c1-43c5-af87-e446a002bb10",
   "metadata": {},
   "source": [
    "### Footnotes\n",
    "1. Vecellio, D. J., Kong, Q., Kenney, W. L., & Huber, M. (2023). Greatly enhanced risk to humans as a consequence of empirically determined lower moist heat stress tolerance. Massachusetts Institute of Technology. August 15, 2023.\n",
    "2. Ulmer JM, Wolf KL, Backman DR, Tretheway RL, Blain CJ, O'Neil-Dunne JP, Frank LD. Multiple health benefits of urban tree canopy: The mounting evidence for a green prescription. Health Place. 2016 Nov;42:54-62. doi: 10.1016/j.healthplace.2016.08.011. Epub 2016 Sep 14. PMID: 27639106. Environmental Protection Agency. (2021). Using trees and vegetation to reduce heat islands. United States Environmental Protection Agency\n",
    "3. Eric M Wood, Sevan Esaian, Christian Benitez, Philip J Ethington, Travis Longcore, Lars Y Pomara, Historical racial redlining and contemporary patterns of income inequality negatively affect birds, their habitat, and people in Los Angeles, California, Ornithological Applications, 2023, https://doi.org/10.1093/ornithapp/duad044. \n",
    "4. Westlake Community Plan \n",
    "5. https://planning.lacity.gov/odocument/ca5050bc-dbe3-4a52-a859-961beb7a2da4/2017_demo_profile_westlake.pdf"
   ]
  },
  {
   "cell_type": "markdown",
   "id": "326658ed-f4ac-4e00-bedd-85e7730dcb6f",
   "metadata": {},
   "source": [
    "[Link to Google Document Version](https://docs.google.com/document/d/1hO_HwGEU1YcnyCg1713YI_yCM9ZNX13tjEym9MJtpPg/edit)"
   ]
  },
  {
   "cell_type": "code",
   "execution_count": null,
   "id": "4368df4a-c217-4d10-8240-28742b968409",
   "metadata": {},
   "outputs": [],
   "source": []
  }
 ],
 "metadata": {
  "kernelspec": {
   "display_name": "Python 3 (ipykernel)",
   "language": "python",
   "name": "python3"
  },
  "language_info": {
   "codemirror_mode": {
    "name": "ipython",
    "version": 3
   },
   "file_extension": ".py",
   "mimetype": "text/x-python",
   "name": "python",
   "nbconvert_exporter": "python",
   "pygments_lexer": "ipython3",
   "version": "3.11.7"
  }
 },
 "nbformat": 4,
 "nbformat_minor": 5
}
